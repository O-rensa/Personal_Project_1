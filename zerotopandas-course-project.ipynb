{
 "cells": [
  {
   "cell_type": "markdown",
   "metadata": {
    "id": "GwOdCl_LN3Kk"
   },
   "source": [
    "# Relationship between a Country's Population and Projected GDP Growth 2023\n",
    "\n",
    "Economists calculates their GDP forecasts based on many factors. Commiting a deep study of those factors, it could be observed that they have strong relationship to the demographics of the country or region. This project aims to understand the correlation between population and GDP forecasts through observation and analysis.\n",
    "\n",
    "This project is a requirement for the course [**Data Analysis with python: From Zero to Pandas**](/https://jovian.com/learn/data-analysis-with-python-zero-to-pandas)."
   ]
  },
  {
   "cell_type": "code",
   "execution_count": 2,
   "metadata": {
    "executionInfo": {
     "elapsed": 342,
     "status": "ok",
     "timestamp": 1683242596410,
     "user": {
      "displayName": "Lorenz Lendio",
      "userId": "16243007901441993191"
     },
     "user_tz": -480
    },
    "id": "758UKqJnN3Kt"
   },
   "outputs": [],
   "source": [
    "dataset_url = 'https://www.kaggle.com/datasets/orensa/2023-population-per-country-and-their-gdp-forecast' "
   ]
  },
  {
   "cell_type": "code",
   "execution_count": 3,
   "metadata": {
    "colab": {
     "base_uri": "https://localhost:8080/"
    },
    "executionInfo": {
     "elapsed": 32162,
     "status": "ok",
     "timestamp": 1683242630057,
     "user": {
      "displayName": "Lorenz Lendio",
      "userId": "16243007901441993191"
     },
     "user_tz": -480
    },
    "id": "AI_cnj9tN3Ku",
    "outputId": "4f0a3d70-996f-4402-c036-f61283e20985"
   },
   "outputs": [
    {
     "name": "stdout",
     "output_type": "stream",
     "text": [
      "Looking in indexes: https://pypi.org/simple, https://us-python.pkg.dev/colab-wheels/public/simple/\n",
      "Collecting opendatasets\n",
      "  Downloading opendatasets-0.1.22-py3-none-any.whl (15 kB)\n",
      "Requirement already satisfied: kaggle in /usr/local/lib/python3.10/dist-packages (from opendatasets) (1.5.13)\n",
      "Requirement already satisfied: tqdm in /usr/local/lib/python3.10/dist-packages (from opendatasets) (4.65.0)\n",
      "Requirement already satisfied: click in /usr/local/lib/python3.10/dist-packages (from opendatasets) (8.1.3)\n",
      "Requirement already satisfied: urllib3 in /usr/local/lib/python3.10/dist-packages (from kaggle->opendatasets) (1.26.15)\n",
      "Requirement already satisfied: six>=1.10 in /usr/local/lib/python3.10/dist-packages (from kaggle->opendatasets) (1.16.0)\n",
      "Requirement already satisfied: python-dateutil in /usr/local/lib/python3.10/dist-packages (from kaggle->opendatasets) (2.8.2)\n",
      "Requirement already satisfied: requests in /usr/local/lib/python3.10/dist-packages (from kaggle->opendatasets) (2.27.1)\n",
      "Requirement already satisfied: certifi in /usr/local/lib/python3.10/dist-packages (from kaggle->opendatasets) (2022.12.7)\n",
      "Requirement already satisfied: python-slugify in /usr/local/lib/python3.10/dist-packages (from kaggle->opendatasets) (8.0.1)\n",
      "Requirement already satisfied: text-unidecode>=1.3 in /usr/local/lib/python3.10/dist-packages (from python-slugify->kaggle->opendatasets) (1.3)\n",
      "Requirement already satisfied: idna<4,>=2.5 in /usr/local/lib/python3.10/dist-packages (from requests->kaggle->opendatasets) (3.4)\n",
      "Requirement already satisfied: charset-normalizer~=2.0.0 in /usr/local/lib/python3.10/dist-packages (from requests->kaggle->opendatasets) (2.0.12)\n",
      "Installing collected packages: opendatasets\n",
      "Successfully installed opendatasets-0.1.22\n",
      "Please provide your Kaggle credentials to download this dataset. Learn more: http://bit.ly/kaggle-creds\n",
      "Your Kaggle username: orensa\n",
      "Your Kaggle Key: ··········\n",
      "Downloading 2023-population-per-country-and-their-gdp-forecast.zip to ./2023-population-per-country-and-their-gdp-forecast\n"
     ]
    },
    {
     "name": "stderr",
     "output_type": "stream",
     "text": [
      "100%|██████████| 185k/185k [00:00<00:00, 72.6MB/s]"
     ]
    },
    {
     "name": "stdout",
     "output_type": "stream",
     "text": [
      "\n"
     ]
    },
    {
     "name": "stderr",
     "output_type": "stream",
     "text": [
      "\n"
     ]
    }
   ],
   "source": [
    "!pip install opendatasets\n",
    "import opendatasets as od\n",
    "od.download(dataset_url)"
   ]
  },
  {
   "cell_type": "markdown",
   "metadata": {
    "id": "ypW-BhK7N3Kw"
   },
   "source": [
    "The dataset has been downloaded and extracted."
   ]
  },
  {
   "cell_type": "code",
   "execution_count": 4,
   "metadata": {
    "executionInfo": {
     "elapsed": 3,
     "status": "ok",
     "timestamp": 1683242634042,
     "user": {
      "displayName": "Lorenz Lendio",
      "userId": "16243007901441993191"
     },
     "user_tz": -480
    },
    "id": "ljqepgnZN3Kx"
   },
   "outputs": [],
   "source": [
    "data_dir = '/content/2023-population-per-country-and-their-gdp-forecast'"
   ]
  },
  {
   "cell_type": "code",
   "execution_count": 5,
   "metadata": {
    "colab": {
     "base_uri": "https://localhost:8080/"
    },
    "executionInfo": {
     "elapsed": 8,
     "status": "ok",
     "timestamp": 1683242635801,
     "user": {
      "displayName": "Lorenz Lendio",
      "userId": "16243007901441993191"
     },
     "user_tz": -480
    },
    "id": "FNH9uW1kN3Ky",
    "outputId": "5d5e8c56-05b8-4159-a124-ed7a32de1435"
   },
   "outputs": [
    {
     "data": {
      "text/plain": [
       "['2023Population.csv', 'GDPForecast.csv']"
      ]
     },
     "execution_count": 5,
     "metadata": {},
     "output_type": "execute_result"
    }
   ],
   "source": [
    "import os\n",
    "os.listdir(data_dir)"
   ]
  },
  {
   "cell_type": "markdown",
   "metadata": {
    "id": "qPMViuDiN3K2"
   },
   "source": [
    "## Data Preparation and Cleaning\n",
    "\n",
    "\n"
   ]
  },
  {
   "cell_type": "markdown",
   "metadata": {
    "id": "8eDTbl2HXEpA"
   },
   "source": [
    "The data provided is not perfect and some of the values on country columns between the two datasets do not match. The projected GDP is not updated to the latest GDP pojections given by International Monetary Fund(IMF).\n",
    "\n",
    "\n",
    "For these reason, this project is limited to the values between the two tables that match and to the dataset available."
   ]
  },
  {
   "cell_type": "markdown",
   "metadata": {
    "id": "6zdnjxvvPf-w"
   },
   "source": [
    "Import package"
   ]
  },
  {
   "cell_type": "code",
   "execution_count": 6,
   "metadata": {
    "executionInfo": {
     "elapsed": 1214,
     "status": "ok",
     "timestamp": 1683242638860,
     "user": {
      "displayName": "Lorenz Lendio",
      "userId": "16243007901441993191"
     },
     "user_tz": -480
    },
    "id": "B7_-R_9lN3K3"
   },
   "outputs": [],
   "source": [
    "import pandas as pd"
   ]
  },
  {
   "cell_type": "markdown",
   "metadata": {
    "id": "YiUxSisdPjPU"
   },
   "source": [
    "Import dataframe"
   ]
  },
  {
   "cell_type": "code",
   "execution_count": 7,
   "metadata": {
    "executionInfo": {
     "elapsed": 338,
     "status": "ok",
     "timestamp": 1683242641883,
     "user": {
      "displayName": "Lorenz Lendio",
      "userId": "16243007901441993191"
     },
     "user_tz": -480
    },
    "id": "UCfJHMgNN3K3"
   },
   "outputs": [],
   "source": [
    "df = pd.read_csv('/content/2023-population-per-country-and-their-gdp-forecast/2023Population.csv', encoding = 'unicode_escape', engine ='python')"
   ]
  },
  {
   "cell_type": "markdown",
   "metadata": {
    "id": "TTnvVMSzP-Eu"
   },
   "source": [
    "Removing rows"
   ]
  },
  {
   "cell_type": "code",
   "execution_count": 8,
   "metadata": {
    "executionInfo": {
     "elapsed": 2,
     "status": "ok",
     "timestamp": 1683242643417,
     "user": {
      "displayName": "Lorenz Lendio",
      "userId": "16243007901441993191"
     },
     "user_tz": -480
    },
    "id": "LxfumfkZN3K3"
   },
   "outputs": [],
   "source": [
    "df = df.query('GROUP != \"TOTAL\"')"
   ]
  },
  {
   "cell_type": "markdown",
   "metadata": {
    "id": "-XJEYKZ9RAYV"
   },
   "source": [
    "Subsetting Columns"
   ]
  },
  {
   "cell_type": "code",
   "execution_count": 9,
   "metadata": {
    "executionInfo": {
     "elapsed": 5,
     "status": "ok",
     "timestamp": 1683242644830,
     "user": {
      "displayName": "Lorenz Lendio",
      "userId": "16243007901441993191"
     },
     "user_tz": -480
    },
    "id": "TPfFvnEWRCxD"
   },
   "outputs": [],
   "source": [
    "df = df[[#'FIPS', 'GENC', \n",
    "         'Country/Area Name', \n",
    "         #'Year', \n",
    "         'GROUP', \n",
    "         #'Population',\n",
    "         '% of Population', \n",
    "         #'Male Population', '% of Males', 'Female Population', '% of Females', 'Sex Ratio'\n",
    "         ]]"
   ]
  },
  {
   "cell_type": "markdown",
   "metadata": {
    "id": "Aexhw17mQczM"
   },
   "source": [
    "Renaming Columns"
   ]
  },
  {
   "cell_type": "code",
   "execution_count": 10,
   "metadata": {
    "executionInfo": {
     "elapsed": 549,
     "status": "ok",
     "timestamp": 1683242646502,
     "user": {
      "displayName": "Lorenz Lendio",
      "userId": "16243007901441993191"
     },
     "user_tz": -480
    },
    "id": "zWRDZWMmN3K4"
   },
   "outputs": [],
   "source": [
    "df = df.rename(columns={'Country/Area Name': 'Country', '% of Population': 'Population_Percentage' })"
   ]
  },
  {
   "cell_type": "markdown",
   "metadata": {
    "id": "MdQXdQjRR1Ni"
   },
   "source": [
    "Importing GDP forecast"
   ]
  },
  {
   "cell_type": "code",
   "execution_count": 11,
   "metadata": {
    "executionInfo": {
     "elapsed": 3,
     "status": "ok",
     "timestamp": 1683242648224,
     "user": {
      "displayName": "Lorenz Lendio",
      "userId": "16243007901441993191"
     },
     "user_tz": -480
    },
    "id": "L7_IHlDtN3K4"
   },
   "outputs": [],
   "source": [
    "right_data = pd.read_csv('/content/2023-population-per-country-and-their-gdp-forecast/GDPForecast.csv')"
   ]
  },
  {
   "cell_type": "markdown",
   "metadata": {
    "id": "PFzZfnjDT1bh"
   },
   "source": [
    "Merging datasets"
   ]
  },
  {
   "cell_type": "code",
   "execution_count": 12,
   "metadata": {
    "executionInfo": {
     "elapsed": 4,
     "status": "ok",
     "timestamp": 1683242649576,
     "user": {
      "displayName": "Lorenz Lendio",
      "userId": "16243007901441993191"
     },
     "user_tz": -480
    },
    "id": "IGiI5AyuN3K4"
   },
   "outputs": [],
   "source": [
    "df = pd.merge(df, right_data, how='left', left_on='Country', right_on='Country')"
   ]
  },
  {
   "cell_type": "markdown",
   "metadata": {
    "id": "4tszKjAiUQjE"
   },
   "source": [
    "Removing not needed columns"
   ]
  },
  {
   "cell_type": "code",
   "execution_count": 13,
   "metadata": {
    "executionInfo": {
     "elapsed": 3,
     "status": "ok",
     "timestamp": 1683242651021,
     "user": {
      "displayName": "Lorenz Lendio",
      "userId": "16243007901441993191"
     },
     "user_tz": -480
    },
    "id": "69DavE69T5Vy"
   },
   "outputs": [],
   "source": [
    "df = df[['Country', 'GROUP', 'Population_Percentage', '2023', \n",
    "         #'2024', '2025','Unnamed: 4'\n",
    "         ]]"
   ]
  },
  {
   "cell_type": "markdown",
   "metadata": {
    "id": "SlW_-e53UntF"
   },
   "source": [
    "Removing null"
   ]
  },
  {
   "cell_type": "code",
   "execution_count": 14,
   "metadata": {
    "executionInfo": {
     "elapsed": 2,
     "status": "ok",
     "timestamp": 1683242652458,
     "user": {
      "displayName": "Lorenz Lendio",
      "userId": "16243007901441993191"
     },
     "user_tz": -480
    },
    "id": "TThNq4qWUdOu"
   },
   "outputs": [],
   "source": [
    "df = df.loc[~df['2023'].isna()]\n"
   ]
  },
  {
   "cell_type": "markdown",
   "metadata": {
    "id": "qDyCIH5bWu8m"
   },
   "source": [
    "Pivot columns"
   ]
  },
  {
   "cell_type": "code",
   "execution_count": 15,
   "metadata": {
    "executionInfo": {
     "elapsed": 551,
     "status": "ok",
     "timestamp": 1683242654437,
     "user": {
      "displayName": "Lorenz Lendio",
      "userId": "16243007901441993191"
     },
     "user_tz": -480
    },
    "id": "w-YrNU0vWoTm"
   },
   "outputs": [],
   "source": [
    "df = df.pivot(index = ['Country','2023'], columns='GROUP', values='Population_Percentage').reset_index()"
   ]
  },
  {
   "cell_type": "markdown",
   "metadata": {
    "id": "6eXlorEVXr9D"
   },
   "source": [
    "Creating needed Columns"
   ]
  },
  {
   "cell_type": "code",
   "execution_count": 16,
   "metadata": {
    "executionInfo": {
     "elapsed": 4,
     "status": "ok",
     "timestamp": 1683242655175,
     "user": {
      "displayName": "Lorenz Lendio",
      "userId": "16243007901441993191"
     },
     "user_tz": -480
    },
    "id": "krmUZrPrXugI"
   },
   "outputs": [],
   "source": [
    "df['Dependent_Young'] = sum([df['0 - 4'],df['5 - 9'],df['10 - 14'],df['15 - 19']])\n",
    "df['Working_Population'] = sum([df['20 - 24'],df['25 - 29'],df['30 - 34'],df['35 - 39'],df['40 - 44'],df['45 - 49'],df['50 - 54'],df['55 - 59'],df['60 - 64' ]])\n",
    "df['Dependent_Old'] = sum([df['65 - 69'],df['70 - 74'],df['75 - 79'],df['80 - 84'],df['85 - 89'],df['90 - 94'],df['95 - 99'],df['100+']])"
   ]
  },
  {
   "cell_type": "markdown",
   "metadata": {
    "id": "Yx3m87P1auCy"
   },
   "source": [
    "Removing Columns"
   ]
  },
  {
   "cell_type": "code",
   "execution_count": 17,
   "metadata": {
    "executionInfo": {
     "elapsed": 346,
     "status": "ok",
     "timestamp": 1683242657261,
     "user": {
      "displayName": "Lorenz Lendio",
      "userId": "16243007901441993191"
     },
     "user_tz": -480
    },
    "id": "MSEgTFpWawt6"
   },
   "outputs": [],
   "source": [
    "df = df[['Country','2023','Dependent_Young', 'Working_Population','Dependent_Old']]"
   ]
  },
  {
   "cell_type": "markdown",
   "metadata": {
    "id": "3Oy1UiprlrOp"
   },
   "source": [
    "Adding ratio between working population and dependent population"
   ]
  },
  {
   "cell_type": "code",
   "execution_count": 18,
   "metadata": {
    "executionInfo": {
     "elapsed": 6,
     "status": "ok",
     "timestamp": 1683242658800,
     "user": {
      "displayName": "Lorenz Lendio",
      "userId": "16243007901441993191"
     },
     "user_tz": -480
    },
    "id": "1FV5sEAzl02q"
   },
   "outputs": [],
   "source": [
    "df['Working_to_Dependent_ratio'] = df['Working_Population'] / sum([df['Dependent_Old'], df['Dependent_Young']])"
   ]
  },
  {
   "cell_type": "markdown",
   "metadata": {
    "id": "QhISXyIifkrX"
   },
   "source": [
    "Renaming columns"
   ]
  },
  {
   "cell_type": "code",
   "execution_count": 19,
   "metadata": {
    "executionInfo": {
     "elapsed": 2,
     "status": "ok",
     "timestamp": 1683242660654,
     "user": {
      "displayName": "Lorenz Lendio",
      "userId": "16243007901441993191"
     },
     "user_tz": -480
    },
    "id": "hEs_PS_NfnbF"
   },
   "outputs": [],
   "source": [
    "df = df.rename(columns={'2023':'2023_GDP_Forecast'})"
   ]
  },
  {
   "cell_type": "markdown",
   "metadata": {
    "id": "fyzhvIRPN3K5"
   },
   "source": [
    "## Exploratory Analysis and Visualization\n",
    "\n",
    "\n"
   ]
  },
  {
   "cell_type": "code",
   "execution_count": 20,
   "metadata": {
    "executionInfo": {
     "elapsed": 1370,
     "status": "ok",
     "timestamp": 1683242663195,
     "user": {
      "displayName": "Lorenz Lendio",
      "userId": "16243007901441993191"
     },
     "user_tz": -480
    },
    "id": "h4fO0qujN3K6"
   },
   "outputs": [],
   "source": [
    "import seaborn as sns\n",
    "import matplotlib\n",
    "import matplotlib.pyplot as plt\n",
    "%matplotlib inline\n",
    "\n",
    "sns.set_style('darkgrid')\n",
    "matplotlib.rcParams['font.size'] = 10\n",
    "matplotlib.rcParams['figure.figsize'] = (9, 5)\n",
    "matplotlib.rcParams['figure.facecolor'] = '#00000000'"
   ]
  },
  {
   "cell_type": "markdown",
   "metadata": {
    "id": "_2zTbXs4N3K6"
   },
   "source": [
    "#### 2023 GDP Forecast Distribution\n",
    "\n",
    "The following visualizations aims to figure out the frequency of the forecasted GDP Growth.\n",
    "\n",
    "The frequency is plotted on a statistical graphs in particular **normal distribution** and **box plot** in order to figure out the average Forecasted GDP Growth. The graphs also gives us additional data that might be useful such as **standard deviation** and **outliers**.\n",
    "\n",
    "A pie chart would also be utilized in order to visualized which countries belong to certain categories in regard to their 2023 GDP Forecast."
   ]
  },
  {
   "cell_type": "code",
   "execution_count": 21,
   "metadata": {
    "colab": {
     "base_uri": "https://localhost:8080/",
     "height": 564
    },
    "executionInfo": {
     "elapsed": 715,
     "status": "ok",
     "timestamp": 1683242665905,
     "user": {
      "displayName": "Lorenz Lendio",
      "userId": "16243007901441993191"
     },
     "user_tz": -480
    },
    "id": "f2qvBSPAN3K6",
    "outputId": "7ac375f4-fffb-4e49-d5b1-f65e762baf57"
   },
   "outputs": [
    {
     "data": {
      "image/png": "[encoded data removed]",
      "text/plain": [
       "<Figure size 900x600 with 1 Axes>"
      ]
     },
     "metadata": {
      "needs_background": "light"
     },
     "output_type": "display_data"
    }
   ],
   "source": [
    "forecast_mean = df['2023_GDP_Forecast'].mean()\n",
    "forecast_std = df['2023_GDP_Forecast'].std()\n",
    "fig, axes = plt.subplots(1, 1, figsize=(9,6))\n",
    "ax = axes\n",
    "ax.set_title('2023 GDP Forecast Distribution(Histrogram)')\n",
    "ax.hist(df['2023_GDP_Forecast'], bins=20)\n",
    "ax.set_ylabel('Frequency')\n",
    "ax.set_xlabel('2023 GDP Forecast(%)')\n",
    "ax.text(transform=ax.transAxes, x = 0.05, y = 0.85,\n",
    "        bbox=dict(facecolor='white', edgecolor='black'),\n",
    "        s=f'Mean = {forecast_mean:.2f}%\\nStandard Deviation = {forecast_std:.2f}%')\n",
    "\n",
    "plt.show()"
   ]
  },
  {
   "cell_type": "markdown",
   "metadata": {
    "id": "-f1_SqxaZE68"
   },
   "source": [
    "*Personal Bias:*\n",
    "\n",
    "2023 began rough to the Global Economy. It began by receiving the problems left by 2022 such as the war in Eastern Europe, high inflation, and rising central bank interest rates. Because of these I was expecting a negative average 2023 GDP Growth Forecast.\n",
    "\n",
    "*What the data shows:*\n",
    "\n",
    "According to the available data, the average(mean) 2023 GDP Growth Forecast is 2.47% with a standard deviation of 1.93%. This is opposite of my personal bias.\n",
    "\n",
    "---"
   ]
  },
  {
   "cell_type": "code",
   "execution_count": 22,
   "metadata": {
    "colab": {
     "base_uri": "https://localhost:8080/",
     "height": 564
    },
    "executionInfo": {
     "elapsed": 999,
     "status": "ok",
     "timestamp": 1683242670547,
     "user": {
      "displayName": "Lorenz Lendio",
      "userId": "16243007901441993191"
     },
     "user_tz": -480
    },
    "id": "ZIK8yNc1S41z",
    "outputId": "916f3a19-2558-42f8-891e-f7e4f2d584d7"
   },
   "outputs": [
    {
     "data": {
      "image/png": "[encoded data removed]",
      "text/plain": [
       "<Figure size 900x600 with 1 Axes>"
      ]
     },
     "metadata": {
      "needs_background": "light"
     },
     "output_type": "display_data"
    }
   ],
   "source": [
    "forecast_Q1 = df['2023_GDP_Forecast'].quantile(0.25)\n",
    "forecast_Q2 = df['2023_GDP_Forecast'].quantile(0.5)\n",
    "forecast_Q3 = df['2023_GDP_Forecast'].quantile(0.75)\n",
    "forecast_IQR = forecast_Q3 - forecast_Q1\n",
    "forecast_leftD = forecast_Q1 - (1.5*forecast_IQR)\n",
    "forecast_rightD = forecast_Q3 + (1.5*forecast_IQR)\n",
    "fig, axes = plt.subplots(1, 1, figsize=(9,6))\n",
    "ax = axes\n",
    "ax.set_title('2023 GDP Forecast Distribution(Boxplot)')\n",
    "ax.set_xlabel('2023 GDP Growth Forecast')\n",
    "ax.boxplot(df['2023_GDP_Forecast'], vert= False)\n",
    "ax.text(transform=ax.transAxes, x = 0.05, y = 0.8,\n",
    "        bbox=dict(facecolor='white', edgecolor='black'),\n",
    "        s=f'Median = {forecast_Q2:.2f}\\nOutliers = D < {forecast_leftD:.2f} or D > {forecast_rightD:.2f}.')\n",
    "plt.show()"
   ]
  },
  {
   "cell_type": "markdown",
   "metadata": {
    "id": "0nBp2iwndfoX"
   },
   "source": [
    "*Personal Bias:*\n",
    "\n",
    "The collapse of the Economy of Sri Lanka made me assume that there would be a spread of fear on the global economy which could instigate an alarming number of countries having a lower that normal GDP growth. The harsh global economic environment also made me assume that there would be no higher than normal GDP growth. In statistics, these anomalies are referred to as outliers. \n",
    "\n",
    "*What the data shows:*\n",
    "\n",
    "The box plot above suggests that there are more outliers on the positive side than outliers on the negative side. This is contradictory to my personal bias.\n",
    "\n",
    "---"
   ]
  },
  {
   "cell_type": "code",
   "execution_count": 23,
   "metadata": {
    "colab": {
     "base_uri": "https://localhost:8080/",
     "height": 521
    },
    "executionInfo": {
     "elapsed": 541,
     "status": "ok",
     "timestamp": 1683242674115,
     "user": {
      "displayName": "Lorenz Lendio",
      "userId": "16243007901441993191"
     },
     "user_tz": -480
    },
    "id": "jOoIs46sS6nG",
    "outputId": "2bf0d5a2-caa4-43a9-e289-7eec097c0a08"
   },
   "outputs": [
    {
     "data": {
      "image/png": "[encoded data removed]",
      "text/plain": [
       "<Figure size 900x600 with 1 Axes>"
      ]
     },
     "metadata": {},
     "output_type": "display_data"
    }
   ],
   "source": [
    "GDP_above_average = len(df.loc[df['2023_GDP_Forecast'] >= 2.47, ['2023_GDP_Forecast']])\n",
    "GDP_above_zero = len(df.loc[df['2023_GDP_Forecast'].between(0,2.47), ['2023_GDP_Forecast']])\n",
    "GDP_below_zero = len(df.loc[df['2023_GDP_Forecast'] < 0, ['2023_GDP_Forecast']])\n",
    "GDP_pie_val = [GDP_above_average,GDP_above_zero, GDP_below_zero]\n",
    "GDP_pie_name = ['Above Average Growth','Positive Growth', 'Negative Growth']\n",
    "fig, axes = plt.subplots(1, 1, figsize=(9,6))\n",
    "ax = axes\n",
    "ax.pie(GDP_pie_val, labels=GDP_pie_name, counterclock=False, startangle=90, autopct ='%.2f%%')\n",
    "ax.set_title('2023 GDP Forecast Grouping')\n",
    "plt.show()"
   ]
  },
  {
   "cell_type": "markdown",
   "metadata": {
    "id": "EicZxOejfif7"
   },
   "source": [
    "*Personal Bias:*\n",
    "\n",
    "The harsh environment left by 2022 made me expect that majority of the countries would have negative GDP Growth.\n",
    "\n",
    "*What the data shows:*\n",
    "\n",
    "The Pie Chart gave the following output:\n",
    "*   Countries with negative GDP Growth Forecast = 5.38%\n",
    "*   Countries with positive but below average GDP Growth Forecast = 44.09%\n",
    "* Countries with above average GDP Growth Forecast = 50.54%\n",
    "\n",
    "\n",
    "Contradictory to my personal bias, the majority of countries have positive GDP growth and more than half of those countries have above average GDP growth forecast.\n",
    "\n"
   ]
  },
  {
   "cell_type": "markdown",
   "metadata": {
    "id": "IT1BfbDON3K8"
   },
   "source": [
    "#### Population Composition\n",
    "\n",
    "The following visualization aim to present the demographics between the countries with above average GDP growth forecast and below average GDP growth forecast."
   ]
  },
  {
   "cell_type": "code",
   "execution_count": 24,
   "metadata": {
    "colab": {
     "base_uri": "https://localhost:8080/",
     "height": 487
    },
    "executionInfo": {
     "elapsed": 760,
     "status": "ok",
     "timestamp": 1683242678511,
     "user": {
      "displayName": "Lorenz Lendio",
      "userId": "16243007901441993191"
     },
     "user_tz": -480
    },
    "id": "t3fVj5E9N3K8",
    "outputId": "0bae727c-8585-4b0a-8128-2a699d8b9f3a"
   },
   "outputs": [
    {
     "data": {
      "image/png": "[encoded data removed]",
      "text/plain": [
       "<Figure size 1000x500 with 1 Axes>"
      ]
     },
     "metadata": {
      "needs_background": "light"
     },
     "output_type": "display_data"
    }
   ],
   "source": [
    "x = ['Above Average Countries', 'Below Average Countries']\n",
    "plot_Me = pd.DataFrame({'name':x,\n",
    "                        'Dependent_Young':[df.loc[df['2023_GDP_Forecast'] >= 2.47, 'Dependent_Young'].mean(),df.loc[df['2023_GDP_Forecast'] < 2.47, 'Dependent_Young'].mean()],\n",
    "                        'Working_Population' : [df.loc[df['2023_GDP_Forecast'] >= 2.47, 'Working_Population'].mean(),df.loc[df['2023_GDP_Forecast'] < 2.47, 'Working_Population'].mean()],\n",
    "                        'Dependent_Old':[df.loc[df['2023_GDP_Forecast'] >= 2.47, 'Dependent_Old'].mean(), df.loc[df['2023_GDP_Forecast'] < 2.47, 'Dependent_Old'].mean() ]\n",
    "                      })\n",
    "Sum_of_means = plot_Me['Dependent_Young'] + plot_Me['Working_Population'] + plot_Me['Dependent_Old']\n",
    "y1 = [plot_Me.iloc[0,1]*100/list(Sum_of_means)[0],plot_Me.iloc[1,1]*100/list(Sum_of_means)[1]]\n",
    "y2 = [plot_Me.iloc[0,2]*100/list(Sum_of_means)[0],plot_Me.iloc[1,2]*100/list(Sum_of_means)[1]]\n",
    "y3 = [plot_Me.iloc[0,3]*100/list(Sum_of_means)[0],plot_Me.iloc[1,3]*100/list(Sum_of_means)[1]]\n",
    "\n",
    "plot_Me= pd.DataFrame({'name':x,\n",
    "                          'Dependent_Young':y1,\n",
    "                          'Working_Population':y2,\n",
    "                          'Dependent_Old':y3\n",
    "                    })\n",
    "\n",
    "ax = plot_Me.plot(kind='bar', stacked=True, title='Population by Age Group', figsize=(10,5))\n",
    "ax.set_xticklabels(x, rotation=360)\n",
    "ax.set_ylabel('Portion on Population(%)')\n",
    "ax.set_xlabel('Category')\n",
    "plt.show()"
   ]
  },
  {
   "cell_type": "markdown",
   "metadata": {
    "id": "1tC1bYP2ilzH"
   },
   "source": [
    "*Personal Bias:*\n",
    "\n",
    "Higher working population means higher production, with this idea I am expecting that the countries with above average GDP growth forecast would have higher working population in relation to their young population and retiree population.\n",
    "\n",
    "*What the data shows:*\n",
    "\n",
    "On average, the countries on both category have higher portion of working population. What made them different to each other though is that the countries with above average GDP growth has higher percentage of young population and lower percentge of retiree population."
   ]
  },
  {
   "cell_type": "markdown",
   "metadata": {
    "id": "BbRGPGsMmM5A"
   },
   "source": [
    "#### Correlation Between Demograhics and GDP Growth Forecast\n",
    "\n",
    "This visualization aims to show the correlation between the GDP Growth Forecast and the population categorized into three groups in particular,\n",
    "* Young Dependent Population\n",
    "* Working Population\n",
    "* Dependent Old Population(Retiree Population)\n",
    "* Working to Dependent Ratio"
   ]
  },
  {
   "cell_type": "code",
   "execution_count": 27,
   "metadata": {
    "colab": {
     "base_uri": "https://localhost:8080/",
     "height": 730
    },
    "executionInfo": {
     "elapsed": 1313,
     "status": "ok",
     "timestamp": 1683242746133,
     "user": {
      "displayName": "Lorenz Lendio",
      "userId": "16243007901441993191"
     },
     "user_tz": -480
    },
    "id": "AGMAYNREN3K8",
    "outputId": "f010f4c8-6aa9-48ed-882a-e5dc9b5aa7c3"
   },
   "outputs": [
    {
     "name": "stderr",
     "output_type": "stream",
     "text": [
      "<ipython-input-27-24b78569e19a>:1: FutureWarning: The default value of numeric_only in DataFrame.corr is deprecated. In a future version, it will default to False. Select only valid columns or specify the value of numeric_only to silence this warning.\n",
      "  sns.heatmap(df.corr(), annot=True, cmap='YlGnBu')\n"
     ]
    },
    {
     "data": {
      "image/png": "[encoded data removed]",
      "text/plain": [
       "<Figure size 900x500 with 2 Axes>"
      ]
     },
     "metadata": {
      "needs_background": "light"
     },
     "output_type": "display_data"
    }
   ],
   "source": [
    "sns.heatmap(df.corr(), annot=True, cmap='YlGnBu')\n",
    "plt.xlabel('Keys')\n",
    "plt.ylabel('Keys')\n",
    "plt.title('Correlation Between Demographics and GDP Growth Forecast')\n",
    "plt.show()"
   ]
  },
  {
   "cell_type": "markdown",
   "metadata": {
    "id": "e3ZGaSBNnAX7"
   },
   "source": [
    "*Personal Bias:*\n",
    "\n",
    "Higher working population means higher production, with this idea I am confident that the GDP Growth Forecast would be highly correlated to the working population.\n",
    "\n",
    "*What the data shows:*\n",
    "\n",
    "\n",
    "According to the data, the GDP Growth Forecast has the highest correlation with the average of Dependent Young population. In fact, this is the only positive correlation coefficient of 0.5.\n",
    "\n",
    "GDP forecast has negative correlation with the average Working Population with correlation coefficient of -0.27.\n",
    "\n",
    "GDP forecast is inversely correlated with Dependent Old (Retiree) Population with a correlation coefficient of -0.54.\n",
    "\n",
    "The correlation coefficient between GDP Forecast and Working to Dependent Ratio is  -0.17.\n",
    "\n"
   ]
  },
  {
   "cell_type": "markdown",
   "metadata": {
    "id": "36A717gcN3K_"
   },
   "source": [
    "## Asking and Answering Questions\n",
    "\n",
    "Let's figure out which countries lead the category they belong.\n",
    "\n"
   ]
  },
  {
   "cell_type": "markdown",
   "metadata": {
    "id": "4Mqs8ahTN3LA"
   },
   "source": [
    "#### Q1: What are the countries that has positive GDP Growth Forecast and are outliers?"
   ]
  },
  {
   "cell_type": "code",
   "execution_count": 28,
   "metadata": {
    "colab": {
     "base_uri": "https://localhost:8080/",
     "height": 143
    },
    "executionInfo": {
     "elapsed": 352,
     "status": "ok",
     "timestamp": 1683242752354,
     "user": {
      "displayName": "Lorenz Lendio",
      "userId": "16243007901441993191"
     },
     "user_tz": -480
    },
    "id": "FOqcj_p2N3LA",
    "outputId": "7be9e957-19f3-4eb1-8a81-57464189d37e"
   },
   "outputs": [
    {
     "data": {
      "text/html": [
       "\n",
       "  <div id=\"df-1cc7954f-1c94-48ee-b01f-17424cb5a3c6\">\n",
       "    <div class=\"colab-df-container\">\n",
       "      <div>\n",
       "<style scoped>\n",
       "    .dataframe tbody tr th:only-of-type {\n",
       "        vertical-align: middle;\n",
       "    }\n",
       "\n",
       "    .dataframe tbody tr th {\n",
       "        vertical-align: top;\n",
       "    }\n",
       "\n",
       "    .dataframe thead th {\n",
       "        text-align: right;\n",
       "    }\n",
       "</style>\n",
       "<table border=\"1\" class=\"dataframe\">\n",
       "  <thead>\n",
       "    <tr style=\"text-align: right;\">\n",
       "      <th>GROUP</th>\n",
       "      <th>2023_GDP_Forecast</th>\n",
       "    </tr>\n",
       "    <tr>\n",
       "      <th>Country</th>\n",
       "      <th></th>\n",
       "    </tr>\n",
       "  </thead>\n",
       "  <tbody>\n",
       "    <tr>\n",
       "      <th>Senegal</th>\n",
       "      <td>9.6</td>\n",
       "    </tr>\n",
       "    <tr>\n",
       "      <th>Rwanda</th>\n",
       "      <td>7.8</td>\n",
       "    </tr>\n",
       "  </tbody>\n",
       "</table>\n",
       "</div>\n",
       "      <button class=\"colab-df-convert\" onclick=\"convertToInteractive('df-1cc7954f-1c94-48ee-b01f-17424cb5a3c6')\"\n",
       "              title=\"Convert this dataframe to an interactive table.\"\n",
       "              style=\"display:none;\">\n",
       "        \n",
       "  <svg xmlns=\"http://www.w3.org/2000/svg\" height=\"24px\"viewBox=\"0 0 24 24\"\n",
       "       width=\"24px\">\n",
       "    <path d=\"M0 0h24v24H0V0z\" fill=\"none\"/>\n",
       "    <path d=\"M18.56 5.44l.94 2.06.94-2.06 2.06-.94-2.06-.94-.94-2.06-.94 2.06-2.06.94zm-11 1L8.5 8.5l.94-2.06 2.06-.94-2.06-.94L8.5 2.5l-.94 2.06-2.06.94zm10 10l.94 2.06.94-2.06 2.06-.94-2.06-.94-.94-2.06-.94 2.06-2.06.94z\"/><path d=\"M17.41 7.96l-1.37-1.37c-.4-.4-.92-.59-1.43-.59-.52 0-1.04.2-1.43.59L10.3 9.45l-7.72 7.72c-.78.78-.78 2.05 0 2.83L4 21.41c.39.39.9.59 1.41.59.51 0 1.02-.2 1.41-.59l7.78-7.78 2.81-2.81c.8-.78.8-2.07 0-2.86zM5.41 20L4 18.59l7.72-7.72 1.47 1.35L5.41 20z\"/>\n",
       "  </svg>\n",
       "      </button>\n",
       "      \n",
       "  <style>\n",
       "    .colab-df-container {\n",
       "      display:flex;\n",
       "      flex-wrap:wrap;\n",
       "      gap: 12px;\n",
       "    }\n",
       "\n",
       "    .colab-df-convert {\n",
       "      background-color: #E8F0FE;\n",
       "      border: none;\n",
       "      border-radius: 50%;\n",
       "      cursor: pointer;\n",
       "      display: none;\n",
       "      fill: #1967D2;\n",
       "      height: 32px;\n",
       "      padding: 0 0 0 0;\n",
       "      width: 32px;\n",
       "    }\n",
       "\n",
       "    .colab-df-convert:hover {\n",
       "      background-color: #E2EBFA;\n",
       "      box-shadow: 0px 1px 2px rgba(60, 64, 67, 0.3), 0px 1px 3px 1px rgba(60, 64, 67, 0.15);\n",
       "      fill: #174EA6;\n",
       "    }\n",
       "\n",
       "    [theme=dark] .colab-df-convert {\n",
       "      background-color: #3B4455;\n",
       "      fill: #D2E3FC;\n",
       "    }\n",
       "\n",
       "    [theme=dark] .colab-df-convert:hover {\n",
       "      background-color: #434B5C;\n",
       "      box-shadow: 0px 1px 3px 1px rgba(0, 0, 0, 0.15);\n",
       "      filter: drop-shadow(0px 1px 2px rgba(0, 0, 0, 0.3));\n",
       "      fill: #FFFFFF;\n",
       "    }\n",
       "  </style>\n",
       "\n",
       "      <script>\n",
       "        const buttonEl =\n",
       "          document.querySelector('#df-1cc7954f-1c94-48ee-b01f-17424cb5a3c6 button.colab-df-convert');\n",
       "        buttonEl.style.display =\n",
       "          google.colab.kernel.accessAllowed ? 'block' : 'none';\n",
       "\n",
       "        async function convertToInteractive(key) {\n",
       "          const element = document.querySelector('#df-1cc7954f-1c94-48ee-b01f-17424cb5a3c6');\n",
       "          const dataTable =\n",
       "            await google.colab.kernel.invokeFunction('convertToInteractive',\n",
       "                                                     [key], {});\n",
       "          if (!dataTable) return;\n",
       "\n",
       "          const docLinkHtml = 'Like what you see? Visit the ' +\n",
       "            '<a target=\"_blank\" href=https://colab.research.google.com/notebooks/data_table.ipynb>data table notebook</a>'\n",
       "            + ' to learn more about interactive tables.';\n",
       "          element.innerHTML = '';\n",
       "          dataTable['output_type'] = 'display_data';\n",
       "          await google.colab.output.renderOutput(dataTable, element);\n",
       "          const docLink = document.createElement('div');\n",
       "          docLink.innerHTML = docLinkHtml;\n",
       "          element.appendChild(docLink);\n",
       "        }\n",
       "      </script>\n",
       "    </div>\n",
       "  </div>\n",
       "  "
      ],
      "text/plain": [
       "GROUP    2023_GDP_Forecast\n",
       "Country                   \n",
       "Senegal                9.6\n",
       "Rwanda                 7.8"
      ]
     },
     "execution_count": 28,
     "metadata": {},
     "output_type": "execute_result"
    }
   ],
   "source": [
    "df.loc[df['2023_GDP_Forecast'] > 6.8, ['Country', '2023_GDP_Forecast']].sort_values('2023_GDP_Forecast', ascending=False).set_index('Country')"
   ]
  },
  {
   "cell_type": "code",
   "execution_count": 29,
   "metadata": {
    "colab": {
     "base_uri": "https://localhost:8080/",
     "height": 487
    },
    "executionInfo": {
     "elapsed": 429,
     "status": "ok",
     "timestamp": 1683242754923,
     "user": {
      "displayName": "Lorenz Lendio",
      "userId": "16243007901441993191"
     },
     "user_tz": -480
    },
    "id": "3WSNn9z5qX7-",
    "outputId": "67bc8bcc-48b1-4fc6-9b32-9b2ce2f3f17c"
   },
   "outputs": [
    {
     "data": {
      "image/png": "[encoded data removed]",
      "text/plain": [
       "<Figure size 1000x500 with 1 Axes>"
      ]
     },
     "metadata": {
      "needs_background": "light"
     },
     "output_type": "display_data"
    }
   ],
   "source": [
    "def addlabels(x,y):\n",
    "    for i in range(len(x)):\n",
    "        plt.text(i, y[i], y[i], ha = 'center')\n",
    "x_values = ['Average GDP']\n",
    "x_values.extend(df.loc[df['2023_GDP_Forecast'] > 6.8, ['Country']].values.flatten().tolist())\n",
    "y_values = [2.47]\n",
    "y_values.extend(df.loc[df['2023_GDP_Forecast'] > 6.8, ['2023_GDP_Forecast']].values.flatten().tolist())\n",
    "Q1 = pd.DataFrame({\n",
    "    'name':x_values,\n",
    "    'forecast': y_values\n",
    "})\n",
    "\n",
    "ax = Q1.plot(kind='bar', stacked=True, title='Countries with Above Normal GDP Growth Forecast', figsize=(10,5), legend=False)\n",
    "ax.set_xticklabels(x_values, rotation=360)\n",
    "ax.set_ylabel('GDP Growth Forecast(%)')\n",
    "ax.set_xlabel('Country')\n",
    "addlabels(x_values, y_values)\n",
    "plt.show()"
   ]
  },
  {
   "cell_type": "markdown",
   "metadata": {
    "id": "7Qa6tpeC0I6v"
   },
   "source": [
    "There are only 2 countries with GDP Forecast that is above normal(outlier), the countries are Rwanda and Senegal."
   ]
  },
  {
   "cell_type": "markdown",
   "metadata": {
    "id": "X6mmZoVpN3LB"
   },
   "source": [
    "#### Q2: What are the countries that has negative GDP Growth Forecast and are outliers? "
   ]
  },
  {
   "cell_type": "code",
   "execution_count": 35,
   "metadata": {
    "colab": {
     "base_uri": "https://localhost:8080/",
     "height": 112
    },
    "executionInfo": {
     "elapsed": 348,
     "status": "ok",
     "timestamp": 1683242824530,
     "user": {
      "displayName": "Lorenz Lendio",
      "userId": "16243007901441993191"
     },
     "user_tz": -480
    },
    "id": "WSAa8vObN3LC",
    "outputId": "914105cf-b0dc-4ed3-a0ec-8221a6e75e90"
   },
   "outputs": [
    {
     "data": {
      "text/html": [
       "\n",
       "  <div id=\"df-d88b1861-5651-48c0-8f41-2ae755671f70\">\n",
       "    <div class=\"colab-df-container\">\n",
       "      <div>\n",
       "<style scoped>\n",
       "    .dataframe tbody tr th:only-of-type {\n",
       "        vertical-align: middle;\n",
       "    }\n",
       "\n",
       "    .dataframe tbody tr th {\n",
       "        vertical-align: top;\n",
       "    }\n",
       "\n",
       "    .dataframe thead th {\n",
       "        text-align: right;\n",
       "    }\n",
       "</style>\n",
       "<table border=\"1\" class=\"dataframe\">\n",
       "  <thead>\n",
       "    <tr style=\"text-align: right;\">\n",
       "      <th>GROUP</th>\n",
       "      <th>2023_GDP_Forecast</th>\n",
       "    </tr>\n",
       "    <tr>\n",
       "      <th>Country</th>\n",
       "      <th></th>\n",
       "    </tr>\n",
       "  </thead>\n",
       "  <tbody>\n",
       "    <tr>\n",
       "      <th>Sri Lanka</th>\n",
       "      <td>-4.0</td>\n",
       "    </tr>\n",
       "  </tbody>\n",
       "</table>\n",
       "</div>\n",
       "      <button class=\"colab-df-convert\" onclick=\"convertToInteractive('df-d88b1861-5651-48c0-8f41-2ae755671f70')\"\n",
       "              title=\"Convert this dataframe to an interactive table.\"\n",
       "              style=\"display:none;\">\n",
       "        \n",
       "  <svg xmlns=\"http://www.w3.org/2000/svg\" height=\"24px\"viewBox=\"0 0 24 24\"\n",
       "       width=\"24px\">\n",
       "    <path d=\"M0 0h24v24H0V0z\" fill=\"none\"/>\n",
       "    <path d=\"M18.56 5.44l.94 2.06.94-2.06 2.06-.94-2.06-.94-.94-2.06-.94 2.06-2.06.94zm-11 1L8.5 8.5l.94-2.06 2.06-.94-2.06-.94L8.5 2.5l-.94 2.06-2.06.94zm10 10l.94 2.06.94-2.06 2.06-.94-2.06-.94-.94-2.06-.94 2.06-2.06.94z\"/><path d=\"M17.41 7.96l-1.37-1.37c-.4-.4-.92-.59-1.43-.59-.52 0-1.04.2-1.43.59L10.3 9.45l-7.72 7.72c-.78.78-.78 2.05 0 2.83L4 21.41c.39.39.9.59 1.41.59.51 0 1.02-.2 1.41-.59l7.78-7.78 2.81-2.81c.8-.78.8-2.07 0-2.86zM5.41 20L4 18.59l7.72-7.72 1.47 1.35L5.41 20z\"/>\n",
       "  </svg>\n",
       "      </button>\n",
       "      \n",
       "  <style>\n",
       "    .colab-df-container {\n",
       "      display:flex;\n",
       "      flex-wrap:wrap;\n",
       "      gap: 12px;\n",
       "    }\n",
       "\n",
       "    .colab-df-convert {\n",
       "      background-color: #E8F0FE;\n",
       "      border: none;\n",
       "      border-radius: 50%;\n",
       "      cursor: pointer;\n",
       "      display: none;\n",
       "      fill: #1967D2;\n",
       "      height: 32px;\n",
       "      padding: 0 0 0 0;\n",
       "      width: 32px;\n",
       "    }\n",
       "\n",
       "    .colab-df-convert:hover {\n",
       "      background-color: #E2EBFA;\n",
       "      box-shadow: 0px 1px 2px rgba(60, 64, 67, 0.3), 0px 1px 3px 1px rgba(60, 64, 67, 0.15);\n",
       "      fill: #174EA6;\n",
       "    }\n",
       "\n",
       "    [theme=dark] .colab-df-convert {\n",
       "      background-color: #3B4455;\n",
       "      fill: #D2E3FC;\n",
       "    }\n",
       "\n",
       "    [theme=dark] .colab-df-convert:hover {\n",
       "      background-color: #434B5C;\n",
       "      box-shadow: 0px 1px 3px 1px rgba(0, 0, 0, 0.15);\n",
       "      filter: drop-shadow(0px 1px 2px rgba(0, 0, 0, 0.3));\n",
       "      fill: #FFFFFF;\n",
       "    }\n",
       "  </style>\n",
       "\n",
       "      <script>\n",
       "        const buttonEl =\n",
       "          document.querySelector('#df-d88b1861-5651-48c0-8f41-2ae755671f70 button.colab-df-convert');\n",
       "        buttonEl.style.display =\n",
       "          google.colab.kernel.accessAllowed ? 'block' : 'none';\n",
       "\n",
       "        async function convertToInteractive(key) {\n",
       "          const element = document.querySelector('#df-d88b1861-5651-48c0-8f41-2ae755671f70');\n",
       "          const dataTable =\n",
       "            await google.colab.kernel.invokeFunction('convertToInteractive',\n",
       "                                                     [key], {});\n",
       "          if (!dataTable) return;\n",
       "\n",
       "          const docLinkHtml = 'Like what you see? Visit the ' +\n",
       "            '<a target=\"_blank\" href=https://colab.research.google.com/notebooks/data_table.ipynb>data table notebook</a>'\n",
       "            + ' to learn more about interactive tables.';\n",
       "          element.innerHTML = '';\n",
       "          dataTable['output_type'] = 'display_data';\n",
       "          await google.colab.output.renderOutput(dataTable, element);\n",
       "          const docLink = document.createElement('div');\n",
       "          docLink.innerHTML = docLinkHtml;\n",
       "          element.appendChild(docLink);\n",
       "        }\n",
       "      </script>\n",
       "    </div>\n",
       "  </div>\n",
       "  "
      ],
      "text/plain": [
       "GROUP      2023_GDP_Forecast\n",
       "Country                     \n",
       "Sri Lanka               -4.0"
      ]
     },
     "execution_count": 35,
     "metadata": {},
     "output_type": "execute_result"
    }
   ],
   "source": [
    "df.loc[df['2023_GDP_Forecast'] < -2.0, ['Country','2023_GDP_Forecast']].set_index('Country')"
   ]
  },
  {
   "cell_type": "code",
   "execution_count": 31,
   "metadata": {
    "colab": {
     "base_uri": "https://localhost:8080/",
     "height": 487
    },
    "executionInfo": {
     "elapsed": 583,
     "status": "ok",
     "timestamp": 1683242759953,
     "user": {
      "displayName": "Lorenz Lendio",
      "userId": "16243007901441993191"
     },
     "user_tz": -480
    },
    "id": "jeIf6Bi41KJQ",
    "outputId": "8abb2bdd-03cf-4482-db9e-b7b1540e373a"
   },
   "outputs": [
    {
     "data": {
      "image/png": "[encoded data removed]",
      "text/plain": [
       "<Figure size 1000x500 with 1 Axes>"
      ]
     },
     "metadata": {
      "needs_background": "light"
     },
     "output_type": "display_data"
    }
   ],
   "source": [
    "x_values = ['Average GDP']\n",
    "x_values.extend(df.loc[df['2023_GDP_Forecast'] <-2.0, ['Country']].values.flatten().tolist())\n",
    "y_values = [2.47]\n",
    "y_values.extend(df.loc[df['2023_GDP_Forecast'] < -2.0, ['2023_GDP_Forecast']].values.flatten().tolist())\n",
    "Q1 = pd.DataFrame({\n",
    "    'name':x_values,\n",
    "    'forecast': y_values\n",
    "})\n",
    "\n",
    "ax = Q1.plot(kind='bar', stacked=True, title='Countries with Below Normal GDP Growth Forecast', figsize=(10,5), legend=False)\n",
    "ax.set_xticklabels(x_values, rotation=360)\n",
    "ax.set_ylabel('GDP Growth Forecast(%)')\n",
    "ax.set_xlabel('Country')\n",
    "addlabels(x_values, y_values)\n",
    "plt.show()"
   ]
  },
  {
   "cell_type": "markdown",
   "metadata": {
    "id": "S1qQtvl91rwv"
   },
   "source": [
    "There is only 1 country with GDP Forecast that is below normal(outlier), and it is Sri Lanka."
   ]
  },
  {
   "cell_type": "markdown",
   "metadata": {
    "id": "HnPvUB-KN3LD"
   },
   "source": [
    "#### Q3: What are the top 10 countries that has above average GDP forecast and not an outlier?"
   ]
  },
  {
   "cell_type": "code",
   "execution_count": 37,
   "metadata": {
    "colab": {
     "base_uri": "https://localhost:8080/",
     "height": 394
    },
    "executionInfo": {
     "elapsed": 337,
     "status": "ok",
     "timestamp": 1683242848125,
     "user": {
      "displayName": "Lorenz Lendio",
      "userId": "16243007901441993191"
     },
     "user_tz": -480
    },
    "id": "0GmR6aJdN3LD",
    "outputId": "8d18018b-a8f5-4e13-b49b-b2309bc12ace"
   },
   "outputs": [
    {
     "data": {
      "text/html": [
       "\n",
       "  <div id=\"df-305f5a10-1299-46fd-a4c1-0361a807ba07\">\n",
       "    <div class=\"colab-df-container\">\n",
       "      <div>\n",
       "<style scoped>\n",
       "    .dataframe tbody tr th:only-of-type {\n",
       "        vertical-align: middle;\n",
       "    }\n",
       "\n",
       "    .dataframe tbody tr th {\n",
       "        vertical-align: top;\n",
       "    }\n",
       "\n",
       "    .dataframe thead th {\n",
       "        text-align: right;\n",
       "    }\n",
       "</style>\n",
       "<table border=\"1\" class=\"dataframe\">\n",
       "  <thead>\n",
       "    <tr style=\"text-align: right;\">\n",
       "      <th>GROUP</th>\n",
       "      <th>2023_GDP_Forecast</th>\n",
       "    </tr>\n",
       "    <tr>\n",
       "      <th>Country</th>\n",
       "      <th></th>\n",
       "    </tr>\n",
       "  </thead>\n",
       "  <tbody>\n",
       "    <tr>\n",
       "      <th>Vietnam</th>\n",
       "      <td>6.0</td>\n",
       "    </tr>\n",
       "    <tr>\n",
       "      <th>Niger</th>\n",
       "      <td>6.0</td>\n",
       "    </tr>\n",
       "    <tr>\n",
       "      <th>India</th>\n",
       "      <td>6.0</td>\n",
       "    </tr>\n",
       "    <tr>\n",
       "      <th>Kenya</th>\n",
       "      <td>5.2</td>\n",
       "    </tr>\n",
       "    <tr>\n",
       "      <th>Philippines</th>\n",
       "      <td>5.1</td>\n",
       "    </tr>\n",
       "    <tr>\n",
       "      <th>Indonesia</th>\n",
       "      <td>5.0</td>\n",
       "    </tr>\n",
       "    <tr>\n",
       "      <th>China</th>\n",
       "      <td>5.0</td>\n",
       "    </tr>\n",
       "    <tr>\n",
       "      <th>Mozambique</th>\n",
       "      <td>5.0</td>\n",
       "    </tr>\n",
       "    <tr>\n",
       "      <th>Mauritius</th>\n",
       "      <td>4.7</td>\n",
       "    </tr>\n",
       "    <tr>\n",
       "      <th>Uzbekistan</th>\n",
       "      <td>4.5</td>\n",
       "    </tr>\n",
       "  </tbody>\n",
       "</table>\n",
       "</div>\n",
       "      <button class=\"colab-df-convert\" onclick=\"convertToInteractive('df-305f5a10-1299-46fd-a4c1-0361a807ba07')\"\n",
       "              title=\"Convert this dataframe to an interactive table.\"\n",
       "              style=\"display:none;\">\n",
       "        \n",
       "  <svg xmlns=\"http://www.w3.org/2000/svg\" height=\"24px\"viewBox=\"0 0 24 24\"\n",
       "       width=\"24px\">\n",
       "    <path d=\"M0 0h24v24H0V0z\" fill=\"none\"/>\n",
       "    <path d=\"M18.56 5.44l.94 2.06.94-2.06 2.06-.94-2.06-.94-.94-2.06-.94 2.06-2.06.94zm-11 1L8.5 8.5l.94-2.06 2.06-.94-2.06-.94L8.5 2.5l-.94 2.06-2.06.94zm10 10l.94 2.06.94-2.06 2.06-.94-2.06-.94-.94-2.06-.94 2.06-2.06.94z\"/><path d=\"M17.41 7.96l-1.37-1.37c-.4-.4-.92-.59-1.43-.59-.52 0-1.04.2-1.43.59L10.3 9.45l-7.72 7.72c-.78.78-.78 2.05 0 2.83L4 21.41c.39.39.9.59 1.41.59.51 0 1.02-.2 1.41-.59l7.78-7.78 2.81-2.81c.8-.78.8-2.07 0-2.86zM5.41 20L4 18.59l7.72-7.72 1.47 1.35L5.41 20z\"/>\n",
       "  </svg>\n",
       "      </button>\n",
       "      \n",
       "  <style>\n",
       "    .colab-df-container {\n",
       "      display:flex;\n",
       "      flex-wrap:wrap;\n",
       "      gap: 12px;\n",
       "    }\n",
       "\n",
       "    .colab-df-convert {\n",
       "      background-color: #E8F0FE;\n",
       "      border: none;\n",
       "      border-radius: 50%;\n",
       "      cursor: pointer;\n",
       "      display: none;\n",
       "      fill: #1967D2;\n",
       "      height: 32px;\n",
       "      padding: 0 0 0 0;\n",
       "      width: 32px;\n",
       "    }\n",
       "\n",
       "    .colab-df-convert:hover {\n",
       "      background-color: #E2EBFA;\n",
       "      box-shadow: 0px 1px 2px rgba(60, 64, 67, 0.3), 0px 1px 3px 1px rgba(60, 64, 67, 0.15);\n",
       "      fill: #174EA6;\n",
       "    }\n",
       "\n",
       "    [theme=dark] .colab-df-convert {\n",
       "      background-color: #3B4455;\n",
       "      fill: #D2E3FC;\n",
       "    }\n",
       "\n",
       "    [theme=dark] .colab-df-convert:hover {\n",
       "      background-color: #434B5C;\n",
       "      box-shadow: 0px 1px 3px 1px rgba(0, 0, 0, 0.15);\n",
       "      filter: drop-shadow(0px 1px 2px rgba(0, 0, 0, 0.3));\n",
       "      fill: #FFFFFF;\n",
       "    }\n",
       "  </style>\n",
       "\n",
       "      <script>\n",
       "        const buttonEl =\n",
       "          document.querySelector('#df-305f5a10-1299-46fd-a4c1-0361a807ba07 button.colab-df-convert');\n",
       "        buttonEl.style.display =\n",
       "          google.colab.kernel.accessAllowed ? 'block' : 'none';\n",
       "\n",
       "        async function convertToInteractive(key) {\n",
       "          const element = document.querySelector('#df-305f5a10-1299-46fd-a4c1-0361a807ba07');\n",
       "          const dataTable =\n",
       "            await google.colab.kernel.invokeFunction('convertToInteractive',\n",
       "                                                     [key], {});\n",
       "          if (!dataTable) return;\n",
       "\n",
       "          const docLinkHtml = 'Like what you see? Visit the ' +\n",
       "            '<a target=\"_blank\" href=https://colab.research.google.com/notebooks/data_table.ipynb>data table notebook</a>'\n",
       "            + ' to learn more about interactive tables.';\n",
       "          element.innerHTML = '';\n",
       "          dataTable['output_type'] = 'display_data';\n",
       "          await google.colab.output.renderOutput(dataTable, element);\n",
       "          const docLink = document.createElement('div');\n",
       "          docLink.innerHTML = docLinkHtml;\n",
       "          element.appendChild(docLink);\n",
       "        }\n",
       "      </script>\n",
       "    </div>\n",
       "  </div>\n",
       "  "
      ],
      "text/plain": [
       "GROUP        2023_GDP_Forecast\n",
       "Country                       \n",
       "Vietnam                    6.0\n",
       "Niger                      6.0\n",
       "India                      6.0\n",
       "Kenya                      5.2\n",
       "Philippines                5.1\n",
       "Indonesia                  5.0\n",
       "China                      5.0\n",
       "Mozambique                 5.0\n",
       "Mauritius                  4.7\n",
       "Uzbekistan                 4.5"
      ]
     },
     "execution_count": 37,
     "metadata": {},
     "output_type": "execute_result"
    }
   ],
   "source": [
    "df.loc[df['2023_GDP_Forecast'].between(2.47,6.80), ['Country', '2023_GDP_Forecast']].sort_values(['2023_GDP_Forecast'], ascending=False).head(10).set_index('Country')"
   ]
  },
  {
   "cell_type": "code",
   "execution_count": 33,
   "metadata": {
    "colab": {
     "base_uri": "https://localhost:8080/",
     "height": 564
    },
    "executionInfo": {
     "elapsed": 977,
     "status": "ok",
     "timestamp": 1683242768923,
     "user": {
      "displayName": "Lorenz Lendio",
      "userId": "16243007901441993191"
     },
     "user_tz": -480
    },
    "id": "ARyM7fsb17xG",
    "outputId": "71e14217-ffc7-4b73-b722-5df637fe2cc2"
   },
   "outputs": [
    {
     "data": {
      "image/png": "[encoded data removed]",
      "text/plain": [
       "<Figure size 1200x600 with 1 Axes>"
      ]
     },
     "metadata": {
      "needs_background": "light"
     },
     "output_type": "display_data"
    }
   ],
   "source": [
    "x_values = ['Average GDP']\n",
    "extend_values = df.loc[df['2023_GDP_Forecast'].between(2.47,6.80), ['Country', '2023_GDP_Forecast']].sort_values(['2023_GDP_Forecast'], ascending=False).head(10)\n",
    "extend_values = extend_values.values[:,0].tolist()\n",
    "x_values.extend(extend_values)\n",
    "y_values = [2.47]\n",
    "y_values.extend(df.loc[df['2023_GDP_Forecast'].between(2.47,6.80), ['2023_GDP_Forecast']].sort_values(['2023_GDP_Forecast'], ascending=False).head(10).values.flatten().tolist())\n",
    "Q1 = pd.DataFrame({\n",
    "    'name':x_values,\n",
    "    'forecast': y_values\n",
    "})\n",
    "\n",
    "ax = Q1.plot(kind='bar', stacked=True, title='Top 10 Normal GDP Forecast', figsize=(12,6), legend=False)\n",
    "ax.set_xticklabels(x_values, rotation=360)\n",
    "ax.set_ylabel('GDP Growth Forecast(%)')\n",
    "ax.set_xlabel('Country')\n",
    "addlabels(x_values, y_values)\n",
    "plt.show()"
   ]
  },
  {
   "cell_type": "markdown",
   "metadata": {
    "id": "Z0Gm9Y7M4peD"
   },
   "source": [
    " The top 10 countries that has above average GDP forecast and not an outlier are the following:\n",
    "\n",
    "\n",
    "1.   Vietnam\n",
    "2.   Niger\n",
    "3. India\n",
    "4. Kenya\n",
    "5. Philippines\n",
    "6. Indonesia\n",
    "7. China\n",
    "8. Mozambique\n",
    "9. Mauritius\n",
    "10. Uzbekistan\n",
    "\n"
   ]
  },
  {
   "cell_type": "markdown",
   "metadata": {
    "id": "bZtZVUy4N3LE"
   },
   "source": [
    "#### Q4: What are the top 10 countries that have positive GDP growth but is below average?"
   ]
  },
  {
   "cell_type": "code",
   "execution_count": 38,
   "metadata": {
    "colab": {
     "base_uri": "https://localhost:8080/",
     "height": 394
    },
    "executionInfo": {
     "elapsed": 504,
     "status": "ok",
     "timestamp": 1683242864061,
     "user": {
      "displayName": "Lorenz Lendio",
      "userId": "16243007901441993191"
     },
     "user_tz": -480
    },
    "id": "iCrHCLmzN3LE",
    "outputId": "f281e26b-e10b-4c9d-ad09-5e3de73ad73a"
   },
   "outputs": [
    {
     "data": {
      "text/html": [
       "\n",
       "  <div id=\"df-07e592e2-2ad2-4991-bd05-fdad9abe2035\">\n",
       "    <div class=\"colab-df-container\">\n",
       "      <div>\n",
       "<style scoped>\n",
       "    .dataframe tbody tr th:only-of-type {\n",
       "        vertical-align: middle;\n",
       "    }\n",
       "\n",
       "    .dataframe tbody tr th {\n",
       "        vertical-align: top;\n",
       "    }\n",
       "\n",
       "    .dataframe thead th {\n",
       "        text-align: right;\n",
       "    }\n",
       "</style>\n",
       "<table border=\"1\" class=\"dataframe\">\n",
       "  <thead>\n",
       "    <tr style=\"text-align: right;\">\n",
       "      <th>GROUP</th>\n",
       "      <th>2023_GDP_Forecast</th>\n",
       "    </tr>\n",
       "    <tr>\n",
       "      <th>Country</th>\n",
       "      <th></th>\n",
       "    </tr>\n",
       "  </thead>\n",
       "  <tbody>\n",
       "    <tr>\n",
       "      <th>Norway</th>\n",
       "      <td>2.4</td>\n",
       "    </tr>\n",
       "    <tr>\n",
       "      <th>Montenegro</th>\n",
       "      <td>2.4</td>\n",
       "    </tr>\n",
       "    <tr>\n",
       "      <th>Azerbaijan</th>\n",
       "      <td>2.3</td>\n",
       "    </tr>\n",
       "    <tr>\n",
       "      <th>Moldova</th>\n",
       "      <td>2.3</td>\n",
       "    </tr>\n",
       "    <tr>\n",
       "      <th>Bosnia and Herzegovina</th>\n",
       "      <td>2.2</td>\n",
       "    </tr>\n",
       "    <tr>\n",
       "      <th>Singapore</th>\n",
       "      <td>2.0</td>\n",
       "    </tr>\n",
       "    <tr>\n",
       "      <th>Colombia</th>\n",
       "      <td>2.0</td>\n",
       "    </tr>\n",
       "    <tr>\n",
       "      <th>Bulgaria</th>\n",
       "      <td>1.8</td>\n",
       "    </tr>\n",
       "    <tr>\n",
       "      <th>Mexico</th>\n",
       "      <td>1.8</td>\n",
       "    </tr>\n",
       "    <tr>\n",
       "      <th>Slovenia</th>\n",
       "      <td>1.8</td>\n",
       "    </tr>\n",
       "  </tbody>\n",
       "</table>\n",
       "</div>\n",
       "      <button class=\"colab-df-convert\" onclick=\"convertToInteractive('df-07e592e2-2ad2-4991-bd05-fdad9abe2035')\"\n",
       "              title=\"Convert this dataframe to an interactive table.\"\n",
       "              style=\"display:none;\">\n",
       "        \n",
       "  <svg xmlns=\"http://www.w3.org/2000/svg\" height=\"24px\"viewBox=\"0 0 24 24\"\n",
       "       width=\"24px\">\n",
       "    <path d=\"M0 0h24v24H0V0z\" fill=\"none\"/>\n",
       "    <path d=\"M18.56 5.44l.94 2.06.94-2.06 2.06-.94-2.06-.94-.94-2.06-.94 2.06-2.06.94zm-11 1L8.5 8.5l.94-2.06 2.06-.94-2.06-.94L8.5 2.5l-.94 2.06-2.06.94zm10 10l.94 2.06.94-2.06 2.06-.94-2.06-.94-.94-2.06-.94 2.06-2.06.94z\"/><path d=\"M17.41 7.96l-1.37-1.37c-.4-.4-.92-.59-1.43-.59-.52 0-1.04.2-1.43.59L10.3 9.45l-7.72 7.72c-.78.78-.78 2.05 0 2.83L4 21.41c.39.39.9.59 1.41.59.51 0 1.02-.2 1.41-.59l7.78-7.78 2.81-2.81c.8-.78.8-2.07 0-2.86zM5.41 20L4 18.59l7.72-7.72 1.47 1.35L5.41 20z\"/>\n",
       "  </svg>\n",
       "      </button>\n",
       "      \n",
       "  <style>\n",
       "    .colab-df-container {\n",
       "      display:flex;\n",
       "      flex-wrap:wrap;\n",
       "      gap: 12px;\n",
       "    }\n",
       "\n",
       "    .colab-df-convert {\n",
       "      background-color: #E8F0FE;\n",
       "      border: none;\n",
       "      border-radius: 50%;\n",
       "      cursor: pointer;\n",
       "      display: none;\n",
       "      fill: #1967D2;\n",
       "      height: 32px;\n",
       "      padding: 0 0 0 0;\n",
       "      width: 32px;\n",
       "    }\n",
       "\n",
       "    .colab-df-convert:hover {\n",
       "      background-color: #E2EBFA;\n",
       "      box-shadow: 0px 1px 2px rgba(60, 64, 67, 0.3), 0px 1px 3px 1px rgba(60, 64, 67, 0.15);\n",
       "      fill: #174EA6;\n",
       "    }\n",
       "\n",
       "    [theme=dark] .colab-df-convert {\n",
       "      background-color: #3B4455;\n",
       "      fill: #D2E3FC;\n",
       "    }\n",
       "\n",
       "    [theme=dark] .colab-df-convert:hover {\n",
       "      background-color: #434B5C;\n",
       "      box-shadow: 0px 1px 3px 1px rgba(0, 0, 0, 0.15);\n",
       "      filter: drop-shadow(0px 1px 2px rgba(0, 0, 0, 0.3));\n",
       "      fill: #FFFFFF;\n",
       "    }\n",
       "  </style>\n",
       "\n",
       "      <script>\n",
       "        const buttonEl =\n",
       "          document.querySelector('#df-07e592e2-2ad2-4991-bd05-fdad9abe2035 button.colab-df-convert');\n",
       "        buttonEl.style.display =\n",
       "          google.colab.kernel.accessAllowed ? 'block' : 'none';\n",
       "\n",
       "        async function convertToInteractive(key) {\n",
       "          const element = document.querySelector('#df-07e592e2-2ad2-4991-bd05-fdad9abe2035');\n",
       "          const dataTable =\n",
       "            await google.colab.kernel.invokeFunction('convertToInteractive',\n",
       "                                                     [key], {});\n",
       "          if (!dataTable) return;\n",
       "\n",
       "          const docLinkHtml = 'Like what you see? Visit the ' +\n",
       "            '<a target=\"_blank\" href=https://colab.research.google.com/notebooks/data_table.ipynb>data table notebook</a>'\n",
       "            + ' to learn more about interactive tables.';\n",
       "          element.innerHTML = '';\n",
       "          dataTable['output_type'] = 'display_data';\n",
       "          await google.colab.output.renderOutput(dataTable, element);\n",
       "          const docLink = document.createElement('div');\n",
       "          docLink.innerHTML = docLinkHtml;\n",
       "          element.appendChild(docLink);\n",
       "        }\n",
       "      </script>\n",
       "    </div>\n",
       "  </div>\n",
       "  "
      ],
      "text/plain": [
       "GROUP                   2023_GDP_Forecast\n",
       "Country                                  \n",
       "Norway                                2.4\n",
       "Montenegro                            2.4\n",
       "Azerbaijan                            2.3\n",
       "Moldova                               2.3\n",
       "Bosnia and Herzegovina                2.2\n",
       "Singapore                             2.0\n",
       "Colombia                              2.0\n",
       "Bulgaria                              1.8\n",
       "Mexico                                1.8\n",
       "Slovenia                              1.8"
      ]
     },
     "execution_count": 38,
     "metadata": {},
     "output_type": "execute_result"
    }
   ],
   "source": [
    "df.loc[df['2023_GDP_Forecast'].between(0,2.47), ['Country', '2023_GDP_Forecast']].sort_values(['2023_GDP_Forecast'], ascending=False).head(10).set_index('Country')"
   ]
  },
  {
   "cell_type": "code",
   "execution_count": null,
   "metadata": {
    "colab": {
     "base_uri": "https://localhost:8080/",
     "height": 645
    },
    "executionInfo": {
     "elapsed": 1273,
     "status": "ok",
     "timestamp": 1683123767572,
     "user": {
      "displayName": "Lorenz Lendio",
      "userId": "16243007901441993191"
     },
     "user_tz": -480
    },
    "id": "sflKfuzB5e0L",
    "outputId": "a6125210-0d01-4cbc-d28d-29f2c8a04ebd"
   },
   "outputs": [
    {
     "data": {
      "image/png": "[encoded data removed]",
      "text/plain": [
       "<Figure size 1800x800 with 1 Axes>"
      ]
     },
     "metadata": {
      "needs_background": "light"
     },
     "output_type": "display_data"
    }
   ],
   "source": [
    "x_values = ['Average GDP']\n",
    "extend_values = df.loc[df['2023_GDP_Forecast'].between(0,2.47), ['Country', '2023_GDP_Forecast']].sort_values(['2023_GDP_Forecast'], ascending=False).head(10)\n",
    "extend_values = extend_values.values[:,0].tolist()\n",
    "x_values.extend(extend_values)\n",
    "y_values = [2.47]\n",
    "y_values.extend(df.loc[df['2023_GDP_Forecast'].between(0,2.47), ['2023_GDP_Forecast']].sort_values(['2023_GDP_Forecast'], ascending=False).head(10).values.flatten().tolist())\n",
    "Q1 = pd.DataFrame({\n",
    "    'name':x_values,\n",
    "    'forecast': y_values\n",
    "})\n",
    "\n",
    "ax = Q1.plot(kind='bar', stacked=True, title='Top 10 Below Average GDP Forecast', figsize=(18,8), legend=False)\n",
    "ax.set_xticklabels(x_values, rotation=360)\n",
    "ax.set_ylabel('GDP Growth Forecast(%)')\n",
    "ax.set_xlabel('Country')\n",
    "addlabels(x_values, y_values)\n",
    "plt.show()"
   ]
  },
  {
   "cell_type": "markdown",
   "metadata": {
    "id": "YdriOisI51Ht"
   },
   "source": [
    "\n",
    "\n",
    "The top 10 countries that have positive GDP growth but is below average are the following:\n",
    "1.   Norway\n",
    "2.   Montenegro\n",
    "3. Azerbaijan\n",
    "4. Moldova\n",
    "5. Bosnia and Herzegovina\n",
    "6. Singapore\n",
    "7. Colombia\n",
    "8. Bulgaria\n",
    "9. Mexico\n",
    "10. Slovenia\n",
    "\n",
    "\n",
    "  \n",
    "\n"
   ]
  },
  {
   "cell_type": "markdown",
   "metadata": {
    "id": "2SemghV1N3LF"
   },
   "source": [
    "#### Q5: What are the countries that has negative GDP growth but is not an outlier? Sort from lowest to highest."
   ]
  },
  {
   "cell_type": "code",
   "execution_count": 39,
   "metadata": {
    "colab": {
     "base_uri": "https://localhost:8080/",
     "height": 206
    },
    "executionInfo": {
     "elapsed": 365,
     "status": "ok",
     "timestamp": 1683242889874,
     "user": {
      "displayName": "Lorenz Lendio",
      "userId": "16243007901441993191"
     },
     "user_tz": -480
    },
    "id": "HsYA09NQN3LF",
    "outputId": "a5f9de7a-a5b7-4a30-d8e4-95d2bd9cf489"
   },
   "outputs": [
    {
     "data": {
      "text/html": [
       "\n",
       "  <div id=\"df-def40c2b-131a-4ebc-a4ac-f4c6b777d51a\">\n",
       "    <div class=\"colab-df-container\">\n",
       "      <div>\n",
       "<style scoped>\n",
       "    .dataframe tbody tr th:only-of-type {\n",
       "        vertical-align: middle;\n",
       "    }\n",
       "\n",
       "    .dataframe tbody tr th {\n",
       "        vertical-align: top;\n",
       "    }\n",
       "\n",
       "    .dataframe thead th {\n",
       "        text-align: right;\n",
       "    }\n",
       "</style>\n",
       "<table border=\"1\" class=\"dataframe\">\n",
       "  <thead>\n",
       "    <tr style=\"text-align: right;\">\n",
       "      <th>GROUP</th>\n",
       "      <th>2023_GDP_Forecast</th>\n",
       "    </tr>\n",
       "    <tr>\n",
       "      <th>Country</th>\n",
       "      <th></th>\n",
       "    </tr>\n",
       "  </thead>\n",
       "  <tbody>\n",
       "    <tr>\n",
       "      <th>Russia</th>\n",
       "      <td>-1.0</td>\n",
       "    </tr>\n",
       "    <tr>\n",
       "      <th>Sweden</th>\n",
       "      <td>-0.9</td>\n",
       "    </tr>\n",
       "    <tr>\n",
       "      <th>Chile</th>\n",
       "      <td>-0.6</td>\n",
       "    </tr>\n",
       "    <tr>\n",
       "      <th>United Kingdom</th>\n",
       "      <td>-0.6</td>\n",
       "    </tr>\n",
       "  </tbody>\n",
       "</table>\n",
       "</div>\n",
       "      <button class=\"colab-df-convert\" onclick=\"convertToInteractive('df-def40c2b-131a-4ebc-a4ac-f4c6b777d51a')\"\n",
       "              title=\"Convert this dataframe to an interactive table.\"\n",
       "              style=\"display:none;\">\n",
       "        \n",
       "  <svg xmlns=\"http://www.w3.org/2000/svg\" height=\"24px\"viewBox=\"0 0 24 24\"\n",
       "       width=\"24px\">\n",
       "    <path d=\"M0 0h24v24H0V0z\" fill=\"none\"/>\n",
       "    <path d=\"M18.56 5.44l.94 2.06.94-2.06 2.06-.94-2.06-.94-.94-2.06-.94 2.06-2.06.94zm-11 1L8.5 8.5l.94-2.06 2.06-.94-2.06-.94L8.5 2.5l-.94 2.06-2.06.94zm10 10l.94 2.06.94-2.06 2.06-.94-2.06-.94-.94-2.06-.94 2.06-2.06.94z\"/><path d=\"M17.41 7.96l-1.37-1.37c-.4-.4-.92-.59-1.43-.59-.52 0-1.04.2-1.43.59L10.3 9.45l-7.72 7.72c-.78.78-.78 2.05 0 2.83L4 21.41c.39.39.9.59 1.41.59.51 0 1.02-.2 1.41-.59l7.78-7.78 2.81-2.81c.8-.78.8-2.07 0-2.86zM5.41 20L4 18.59l7.72-7.72 1.47 1.35L5.41 20z\"/>\n",
       "  </svg>\n",
       "      </button>\n",
       "      \n",
       "  <style>\n",
       "    .colab-df-container {\n",
       "      display:flex;\n",
       "      flex-wrap:wrap;\n",
       "      gap: 12px;\n",
       "    }\n",
       "\n",
       "    .colab-df-convert {\n",
       "      background-color: #E8F0FE;\n",
       "      border: none;\n",
       "      border-radius: 50%;\n",
       "      cursor: pointer;\n",
       "      display: none;\n",
       "      fill: #1967D2;\n",
       "      height: 32px;\n",
       "      padding: 0 0 0 0;\n",
       "      width: 32px;\n",
       "    }\n",
       "\n",
       "    .colab-df-convert:hover {\n",
       "      background-color: #E2EBFA;\n",
       "      box-shadow: 0px 1px 2px rgba(60, 64, 67, 0.3), 0px 1px 3px 1px rgba(60, 64, 67, 0.15);\n",
       "      fill: #174EA6;\n",
       "    }\n",
       "\n",
       "    [theme=dark] .colab-df-convert {\n",
       "      background-color: #3B4455;\n",
       "      fill: #D2E3FC;\n",
       "    }\n",
       "\n",
       "    [theme=dark] .colab-df-convert:hover {\n",
       "      background-color: #434B5C;\n",
       "      box-shadow: 0px 1px 3px 1px rgba(0, 0, 0, 0.15);\n",
       "      filter: drop-shadow(0px 1px 2px rgba(0, 0, 0, 0.3));\n",
       "      fill: #FFFFFF;\n",
       "    }\n",
       "  </style>\n",
       "\n",
       "      <script>\n",
       "        const buttonEl =\n",
       "          document.querySelector('#df-def40c2b-131a-4ebc-a4ac-f4c6b777d51a button.colab-df-convert');\n",
       "        buttonEl.style.display =\n",
       "          google.colab.kernel.accessAllowed ? 'block' : 'none';\n",
       "\n",
       "        async function convertToInteractive(key) {\n",
       "          const element = document.querySelector('#df-def40c2b-131a-4ebc-a4ac-f4c6b777d51a');\n",
       "          const dataTable =\n",
       "            await google.colab.kernel.invokeFunction('convertToInteractive',\n",
       "                                                     [key], {});\n",
       "          if (!dataTable) return;\n",
       "\n",
       "          const docLinkHtml = 'Like what you see? Visit the ' +\n",
       "            '<a target=\"_blank\" href=https://colab.research.google.com/notebooks/data_table.ipynb>data table notebook</a>'\n",
       "            + ' to learn more about interactive tables.';\n",
       "          element.innerHTML = '';\n",
       "          dataTable['output_type'] = 'display_data';\n",
       "          await google.colab.output.renderOutput(dataTable, element);\n",
       "          const docLink = document.createElement('div');\n",
       "          docLink.innerHTML = docLinkHtml;\n",
       "          element.appendChild(docLink);\n",
       "        }\n",
       "      </script>\n",
       "    </div>\n",
       "  </div>\n",
       "  "
      ],
      "text/plain": [
       "GROUP           2023_GDP_Forecast\n",
       "Country                          \n",
       "Russia                       -1.0\n",
       "Sweden                       -0.9\n",
       "Chile                        -0.6\n",
       "United Kingdom               -0.6"
      ]
     },
     "execution_count": 39,
     "metadata": {},
     "output_type": "execute_result"
    }
   ],
   "source": [
    "df.loc[df['2023_GDP_Forecast'].between(-2,0), ['Country', '2023_GDP_Forecast']].sort_values(['2023_GDP_Forecast']).set_index('Country')"
   ]
  },
  {
   "cell_type": "code",
   "execution_count": null,
   "metadata": {
    "colab": {
     "base_uri": "https://localhost:8080/",
     "height": 564
    },
    "executionInfo": {
     "elapsed": 1309,
     "status": "ok",
     "timestamp": 1683123780153,
     "user": {
      "displayName": "Lorenz Lendio",
      "userId": "16243007901441993191"
     },
     "user_tz": -480
    },
    "id": "PagPxf6O7D6x",
    "outputId": "fbbbbb90-910a-4b5a-f27a-ce908c0577e4"
   },
   "outputs": [
    {
     "data": {
      "image/png": "[encoded data removed]",
      "text/plain": [
       "<Figure size 1200x600 with 1 Axes>"
      ]
     },
     "metadata": {
      "needs_background": "light"
     },
     "output_type": "display_data"
    }
   ],
   "source": [
    "x_values = ['Average GDP']\n",
    "extend_values = df.loc[df['2023_GDP_Forecast'].between(-2,0), ['Country', '2023_GDP_Forecast']].sort_values(['2023_GDP_Forecast'], ascending=True).head(10)\n",
    "extend_values = extend_values.values[:,0].tolist()\n",
    "x_values.extend(extend_values)\n",
    "y_values = [2.47]\n",
    "y_values.extend(df.loc[df['2023_GDP_Forecast'].between(-2,0), ['2023_GDP_Forecast']].sort_values(['2023_GDP_Forecast'], ascending=True).head(10).values.flatten().tolist())\n",
    "Q1 = pd.DataFrame({\n",
    "    'name':x_values,\n",
    "    'forecast': y_values\n",
    "})\n",
    "\n",
    "ax = Q1.plot(kind='bar', stacked=True, title='Counries with Negative Normal GDP growth Forecast', figsize=(12,6), legend=False)\n",
    "ax.set_xticklabels(x_values, rotation=360)\n",
    "ax.set_ylabel('GDP Growth Forecast(%)')\n",
    "ax.set_xlabel('Country')\n",
    "addlabels(x_values, y_values)\n",
    "plt.show()"
   ]
  },
  {
   "cell_type": "markdown",
   "metadata": {
    "id": "fMqJWJ1A7rOC"
   },
   "source": [
    " The countries that has negative GDP growth but is not an outlier are the following:\n",
    " 1. Russia\n",
    " 2. Sweden\n",
    " 3. Chile\n",
    " 4. United Kingdom"
   ]
  },
  {
   "cell_type": "markdown",
   "metadata": {
    "id": "K_gjBJEyN3LH"
   },
   "source": [
    "## Inferences and Conclusion\n",
    "\n",
    "Analyzing the graphs, all of my personal bias was disproven more times than not. Despite the fact that 2023 started rough for the global economy, that doesn't affect the majority of countries and they still have positive GDP Growth Forecast that is enough to pull the average to the positive side.\n",
    "\n",
    "Also. My personal bias that the greater the portion of working population the higher the GDP forecast, and again I was mistaken. By GDP Forecast is a lot more positively correlated to the portion of younger population. I think deeper studies are needed to figure out why this is so."
   ]
  },
  {
   "cell_type": "markdown",
   "metadata": {
    "id": "MC-TzR5yN3LI"
   },
   "source": [
    "## References and Future Work\n",
    "\n",
    "I am hoping that this data would further be studied in order to find the reason why the expected GDP growth is more correlated to the number of young population despite the fact that they are contributing to the work force.\n",
    "\n",
    "\n",
    "Sources:                          \n",
    "census.gov                                                      \n",
    "tradingeconomics.com\n"
   ]
  }
 ],
 "metadata": {
  "colab": {
   "provenance": []
  },
  "language_info": {
   "codemirror_mode": {
    "name": "ipython",
    "version": 3
   },
   "file_extension": ".py",
   "mimetype": "text/x-python",
   "name": "python",
   "nbconvert_exporter": "python",
   "pygments_lexer": "ipython3",
   "version": "3.8.5"
  }
 },
 "nbformat": 4,
 "nbformat_minor": 0
}